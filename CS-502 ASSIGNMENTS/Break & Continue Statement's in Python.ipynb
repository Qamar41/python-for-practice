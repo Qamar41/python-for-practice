{
 "cells": [
  {
   "cell_type": "markdown",
   "metadata": {},
   "source": [
    "#                Qamar Ashfaq                      ,                                            2017-ag-8043"
   ]
  },
  {
   "cell_type": "markdown",
   "metadata": {},
   "source": [
    "# Break Statemen :"
   ]
  },
  {
   "cell_type": "markdown",
   "metadata": {},
   "source": [
    "The break statement in Python terminates the current loop and resumes execution at the next statement, just like the traditional break found in C.\n",
    "The most common use for break is when some external condition is triggered requiring a hasty exit from a loop. The break statement can be used in both while and for loops."
   ]
  },
  {
   "cell_type": "code",
   "execution_count": 25,
   "metadata": {},
   "outputs": [
    {
     "name": "stdout",
     "output_type": "stream",
     "text": [
      "Current Numer is 1\n",
      "Current Numer is 2\n",
      "Current Numer is 3\n",
      "Current Numer is 4\n",
      "Current Numer is 5\n",
      "Current Numer is 6\n"
     ]
    }
   ],
   "source": [
    "for i in range(1,11):\n",
    "    if i==7:\n",
    "        break\n",
    "    print(f'Current Numer is {i}')"
   ]
  },
  {
   "cell_type": "markdown",
   "metadata": {},
   "source": [
    "# Explantion :\n",
    "In the  above program we are printing numbers from 1-11 by using for loop , in the very next step we are using condtion that if the number is equal to 7 then it will terminate the program by using the break statement,\n",
    "You can see the output it is printing the numbers from 1-6 and it is terminating the program when the number is exactly equal to 7."
   ]
  },
  {
   "cell_type": "code",
   "execution_count": 23,
   "metadata": {},
   "outputs": [
    {
     "name": "stdout",
     "output_type": "stream",
     "text": [
      "Letter is  Q\n",
      "Letter is  a\n"
     ]
    }
   ],
   "source": [
    "for letter in 'Qamar':\n",
    "    if letter =='m':\n",
    "        break\n",
    "    print('Letter is ',letter)"
   ]
  },
  {
   "cell_type": "markdown",
   "metadata": {},
   "source": [
    "# Explanation :\n",
    "In the above Program we are looping on the name 'Qamar' which is acting as a string there , in the next line we are using the condition that it will terminate our program when the letter is exactly equal to 'm' by using break statement ."
   ]
  },
  {
   "cell_type": "markdown",
   "metadata": {},
   "source": [
    "# Continue Statment :"
   ]
  },
  {
   "cell_type": "markdown",
   "metadata": {},
   "source": [
    "We can say the functionality of Continue Statemet it works as we give our condition it will ignore or skip that number which is given to our conditional Statement and it wil go to the next number.\n",
    "\n",
    "The continue statement in Python returns the control to the beginning of the while loop. The continue statement rejects all the remaining statements in the current iteration of the loop and moves the control back to the top of the loop.\n",
    "The continue statement can be used in both while and for loops."
   ]
  },
  {
   "cell_type": "code",
   "execution_count": 26,
   "metadata": {},
   "outputs": [
    {
     "name": "stdout",
     "output_type": "stream",
     "text": [
      "Current Number is 1\n",
      "Current Number is 2\n",
      "Current Number is 4\n",
      "Current Number is 6\n",
      "Current Number is 8\n",
      "Current Number is 9\n",
      "Current Number is 10\n"
     ]
    }
   ],
   "source": [
    "for i in range (1,11):\n",
    "    \n",
    "    if i==3 or i==5 or i==7:\n",
    "        continue\n",
    "    print(f'Current Number is {i}')\n",
    "        \n",
    "        \n"
   ]
  },
  {
   "cell_type": "markdown",
   "metadata": {},
   "source": [
    "# Explaination :\n",
    "In the above Program we are going to print the letters from 1-11 by using for loop , in the next line we give a condition to our program that where the numbers are 1 or 3 or 5 or 7 it will skip these numbers becuses we are using here continue statement as we discuss above that continue statement wil ignore the number or the letter on which we are using the contine statement so while printing the numbers from 1-11 it will skip these numbers and will print out remaning all the numbers except these numbers"
   ]
  },
  {
   "cell_type": "code",
   "execution_count": 32,
   "metadata": {},
   "outputs": [
    {
     "name": "stdout",
     "output_type": "stream",
     "text": [
      "Qamar\n",
      "Sammar\n",
      "Ibrahim\n"
     ]
    }
   ],
   "source": [
    "names=['Qamar','Umar','Sammar','Mustafa','Ibrahim']\n",
    "for name in names:\n",
    "    if name =='Umar' or name=='Mustafa':\n",
    "        continue\n",
    "    print(name)"
   ]
  },
  {
   "cell_type": "markdown",
   "metadata": {},
   "source": [
    "# Explanation :\n",
    "In the above program firstly we declare a names List in which we have some names , In the Next line we are looping through our list and in the next line we are using condition that it will use continue statement and will skip out the names which are we are mentioning in our condition , so as the output of our program you can see the output, our program output is skipping out the names that are in the list we declared above but they are not in the output of our program ."
   ]
  },
  {
   "cell_type": "code",
   "execution_count": null,
   "metadata": {},
   "outputs": [],
   "source": []
  }
 ],
 "metadata": {
  "kernelspec": {
   "display_name": "Python 3",
   "language": "python",
   "name": "python3"
  },
  "language_info": {
   "codemirror_mode": {
    "name": "ipython",
    "version": 3
   },
   "file_extension": ".py",
   "mimetype": "text/x-python",
   "name": "python",
   "nbconvert_exporter": "python",
   "pygments_lexer": "ipython3",
   "version": "3.7.4"
  }
 },
 "nbformat": 4,
 "nbformat_minor": 2
}
